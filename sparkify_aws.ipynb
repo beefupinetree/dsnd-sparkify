{
 "cells": [
  {
   "cell_type": "markdown",
   "metadata": {},
   "source": [
    "# Sparkify Project Workspace\n",
    "This workspace contains a tiny subset (128MB) of the full dataset available (12GB). Feel free to use this workspace to build your project, or to explore a smaller subset with Spark before deploying your cluster on the cloud. Instructions for setting up your Spark cluster is included in the last lesson of the Extracurricular Spark Course content.\n",
    "\n",
    "You can follow the steps below to guide your data analysis and model building portion of this project."
   ]
  },
  {
   "cell_type": "code",
   "execution_count": null,
   "metadata": {},
   "outputs": [],
   "source": [
    "# import libraries\n",
    "from pyspark.sql import SparkSession\n",
    "from pyspark.ml import Pipeline\n",
    "from pyspark.sql.functions import  *\n",
    "from pyspark.sql import Window\n",
    "from pyspark.sql.types import IntegerType\n",
    "from pyspark.ml.feature import MinMaxScaler, VectorAssembler, OneHotEncoder, StringIndexer\n",
    "from pyspark.ml.classification import LogisticRegression, RandomForestClassifier, NaiveBayes, GBTClassifier\n",
    "from pyspark.ml.clustering import KMeans\n",
    "from pyspark.ml.tuning import CrossValidator, ParamGridBuilder\n",
    "from pyspark.ml.evaluation import BinaryClassificationEvaluator, MulticlassClassificationEvaluator\n",
    "\n",
    "import numpy as np\n",
    "import pandas as pd\n",
    "import matplotlib.pyplot as plt\n",
    "plt.rcParams['figure.figsize'] = 12, 9"
   ]
  },
  {
   "cell_type": "code",
   "execution_count": null,
   "metadata": {},
   "outputs": [],
   "source": [
    "# Starter code\n",
    "\n",
    "# Create spark session\n",
    "spark = SparkSession \\\n",
    "    .builder \\\n",
    "    .appName(\"Sparkify\") \\\n",
    "    .getOrCreate()\n",
    "\n",
    "# Read in full sparkify dataset\n",
    "event_data = \"s3n://udacity-dsnd/sparkify/sparkify_event_data.json\"\n",
    "df = spark.read.json(event_data)\n",
    "df.head()"
   ]
  },
  {
   "cell_type": "markdown",
   "metadata": {},
   "source": [
    "# Load and Clean Dataset\n",
    "In this workspace, the mini-dataset file is `mini_sparkify_event_data.json`. Load and clean the dataset, checking for invalid or missing data - for example, records without userids or sessionids. "
   ]
  },
  {
   "cell_type": "code",
   "execution_count": null,
   "metadata": {},
   "outputs": [],
   "source": [
    "df.take(5)\n",
    "\n",
    "df.printSchema()\n",
    "\n",
    "df.describe(\"length\", \"ts\").show()\n",
    "\n",
    "df.count()\n",
    "\n",
    "df.select(\"page\").dropDuplicates().sort(\"page\").show(df.select(\"page\").count(),False)\n",
    "df.select(\"gender\").dropDuplicates().sort(\"gender\").show()\n",
    "df.select(\"auth\").dropDuplicates().sort(\"auth\").show()\n",
    "df.select(\"level\").dropDuplicates().sort(\"level\").show()\n",
    "df.select(\"method\").dropDuplicates().sort(\"method\").show()\n",
    "df.select(\"status\").dropDuplicates().sort(\"status\").show()\n",
    "\n",
    "df.where(df.userId == \"\").show()\n",
    "df.where(df.userId == \"\").select(\"page\").distinct().show()\n",
    "df.select(\"userID\").distinct().count()\n",
    "\n",
    "# columns with any NaN values, Null, or missing values\n",
    "df.select([count(when(isnan(c), c)).alias(c) for c in df.columns]).show()\n",
    "df.select([count(when(isnull(c), c)).alias(c) for c in df.columns]).show()\n",
    "df.select([count(when(col(c) == \"\", c)).alias(c) for c in df.columns]).show()\n",
    "\n",
    "# drop rows with missing IDs\n",
    "# df2 = df.na.drop()\n",
    "df2 = df.filter(df.userId != \"\")\n",
    "df2.select(\"userID\").distinct().count()\n",
    "\n",
    "df2.describe(\"length\", \"ts\").show()"
   ]
  },
  {
   "cell_type": "markdown",
   "metadata": {},
   "source": [
    "# Exploratory Data Analysis\n",
    "When you're working with the full dataset, perform EDA by loading a small subset of the data and doing basic manipulations within Spark. In this workspace, you are already provided a small subset of data you can explore.\n",
    "\n",
    "### Define Churn\n",
    "\n",
    "Once you've done some preliminary analysis, create a column `Churn` to use as the label for your model. I suggest using the `Cancellation Confirmation` events to define your churn, which happen for both paid and free users. As a bonus task, you can also look into the `Downgrade` events.\n",
    "\n",
    "### Explore Data\n",
    "Once you've defined churn, perform some exploratory data analysis to observe the behavior for users who stayed vs users who churned. You can start by exploring aggregates on these two groups of users, observing how much of a specific action they experienced per a certain time unit or number of songs played."
   ]
  },
  {
   "cell_type": "code",
   "execution_count": null,
   "metadata": {},
   "outputs": [],
   "source": [
    "# These both work in the same way, but the second breaks the rest of the code\n",
    "df2 = df2.withColumn(\"churn\", when(df.page == \"Cancellation Confirmation\", 1).otherwise(0))\n",
    " \n",
    "#cancel_udf = udf(lambda  x: 1 if x == \"Cancellation Confirmation\" else 0, IntegerType())\n",
    "#df2 = df2.withColumn(\"churn\", cancel_udf(df2.page))\n",
    "df2.printSchema()\n",
    "df2.groupBy().sum().collect()[0]\n",
    "\n",
    "df2.filter(df2.churn == 1).show()\n",
    "df2.select([\"artist\",\"itemInSession\",\"length\", \"level\",\"page\",\"sessionId\",\"churn\",\"ts\"]).filter(df2.userId == 18).sort(asc('ts')).show(10)\n",
    "\n",
    "# investigating the Downgrade too\n",
    "df3 = df.withColumn(\"churn\", when(df.page == \"Downgrade\", 1).otherwise(0))\n",
    "df3.filter(df3.churn == 1).show()\n",
    "df3.select([\"artist\",\"itemInSession\",\"length\", \"level\",\"page\",\"sessionId\",\"churn\",\"ts\"]).filter(df3.userId == 95).sort(asc('ts')).show(10)"
   ]
  },
  {
   "cell_type": "markdown",
   "metadata": {},
   "source": [
    "# Feature Engineering\n",
    "Once you've familiarized yourself with the data, build out the features you find promising to train your model on. To work with the full dataset, you can follow the following steps.\n",
    "- Write a script to extract the necessary features from the smaller subset of data\n",
    "- Ensure that your script is scalable, using the best practices discussed in Lesson 3\n",
    "- Try your script on the full data set, debugging your script if necessary\n",
    "\n",
    "If you are working in the classroom workspace, you can just extract features based on the small subset of data contained here. Be sure to transfer over this work to the larger dataset when you work on your Spark cluster."
   ]
  },
  {
   "cell_type": "code",
   "execution_count": null,
   "metadata": {},
   "outputs": [],
   "source": [
    "# Initializing final table\n",
    "\n",
    "df_user = df2.select([\"userId\"]).distinct().sort([\"userId\"])\n",
    "\n",
    "churned = df2.filter(df2.churn == 1).select('userId').distinct().sort([\"userId\"])\n",
    "\n",
    "churned_array = [int(row.userId) for row in churned.collect()]\n",
    "\n",
    "# add a new churned column to the final table\n",
    "df_user = df_user.withColumn('churn', when(df_user.userId.isin(*churned_array), 1).otherwise(0))"
   ]
  },
  {
   "cell_type": "code",
   "execution_count": null,
   "metadata": {},
   "outputs": [],
   "source": [
    "### Adding the average hour when the user plays a song\n",
    "\n",
    "avg_hour_of_play = song_time.select([\"userId\", \"hour\"]) \\\n",
    "                    .groupBy('userID') \\\n",
    "                    .agg({'hour': 'avg'})\n",
    "\n",
    "avg_hour_of_play = avg_hour_of_play.withColumnRenamed(\"avg(hour)\", \"avg_play_hour\")\n",
    "\n",
    "df_user = df_user.join(avg_hour_of_play, on = 'userId', how = 'left')"
   ]
  },
  {
   "cell_type": "code",
   "execution_count": null,
   "metadata": {},
   "outputs": [],
   "source": [
    "### Gender dummy (1: male, 0: female)\n",
    "df2.cube([\"gender\"]).count().show()\n",
    "\n",
    "indexer = StringIndexer(inputCol=\"gender\", outputCol=\"gender_dum\")\n",
    "df2 = indexer.fit(df2).transform(df2)\n",
    "\n",
    "gender_dum = df2.select([\"userId\", \"gender_dum\"]).distinct().sort(\"userId\")\n",
    "\n",
    "df_user = df_user.join(gender_dum, on = 'userId', how = 'left')"
   ]
  },
  {
   "cell_type": "code",
   "execution_count": null,
   "metadata": {},
   "outputs": [],
   "source": [
    "### Days of activity\n",
    "\n",
    "# Find minimum/maximum time stamp of each user\n",
    "min_timestmp = df2.select([\"userId\", \"ts\"]).groupby(\"userId\").min(\"ts\")\n",
    "max_timestmp = df2.select([\"userId\", \"ts\"]).groupby(\"userId\").max(\"ts\")\n",
    "\n",
    "# Find days active of each user\n",
    "daysActive = min_timestmp.join(max_timestmp, on=\"userId\")\n",
    "daysActive = daysActive.withColumn(\"days_active\", \n",
    "                                   datediff(from_unixtime(col('max(ts)')/1000),\n",
    "                                            from_unixtime(col('min(ts)')/1000))).select([\"userId\", \"days_active\"]) \n",
    "df_user = df_user.join(daysActive, on = 'userId', how = 'left')"
   ]
  },
  {
   "cell_type": "code",
   "execution_count": null,
   "metadata": {},
   "outputs": [],
   "source": [
    "### Number of sessions\n",
    "n_sessions = df2.select([\"userId\", \"sessionId\"]).distinct().groupby(\"userId\").count().sort([\"userId\", \"count\"])\n",
    "n_sessions = n_sessions.withColumnRenamed(\"count\", \"n_sessions\")\n",
    "\n",
    "df_user = df_user.join(n_sessions, on = 'userId', how = 'left')"
   ]
  },
  {
   "cell_type": "code",
   "execution_count": null,
   "metadata": {},
   "outputs": [],
   "source": [
    "### Average numer of songs per session\n",
    "\n",
    "avg_session_songs = df2.filter((df2.page == 'NextSong')) \\\n",
    "                    .groupBy('userID', 'sessionId') \\\n",
    "                    .agg({'song': 'count'}) \\\n",
    "                    .groupBy('userID') \\\n",
    "                    .agg({'count(song)': 'avg'})\n",
    "\n",
    "avg_session_songs = avg_session_songs.withColumnRenamed(\"avg(count(song))\", \"avg_sess_songs\")\n",
    "\n",
    "df_user = df_user.join(avg_session_songs, on = 'userId', how = 'left')"
   ]
  },
  {
   "cell_type": "code",
   "execution_count": null,
   "metadata": {},
   "outputs": [],
   "source": [
    "### Number of errors\n",
    "\n",
    "errors = df2.select([\"userId\", \"page\"]).filter((df2.page == 'Error')).groupby(\"userId\").agg({'page': 'count'})\n",
    "errors = errors.withColumnRenamed(\"count(page)\", \"n_errors\")\n",
    "\n",
    "df_user = df_user.join(errors, on = 'userId', how = 'left')"
   ]
  },
  {
   "cell_type": "code",
   "execution_count": null,
   "metadata": {},
   "outputs": [],
   "source": [
    "# Renaming churn to label\n",
    "df_user = df_user.withColumnRenamed(\"churn\", \"label\")\n",
    "\n",
    "# setting missing values to zero\n",
    "df_user = df_user.fillna(0)"
   ]
  },
  {
   "cell_type": "markdown",
   "metadata": {},
   "source": [
    "# Modeling\n",
    "Split the full dataset into train, test, and validation sets. Test out several of the machine learning methods you learned. Evaluate the accuracy of the various models, tuning parameters as necessary. Determine your winning model based on test accuracy and report results on the validation set. Since the churned users are a fairly small subset, I suggest using F1 score as the metric to optimize."
   ]
  },
  {
   "cell_type": "code",
   "execution_count": null,
   "metadata": {},
   "outputs": [],
   "source": [
    "# Build pipeline\n",
    "train, test = df_user.randomSplit([0.8, 0.2], 42)\n",
    "\n",
    "# Vectorize the features\n",
    "feature_names = [\"avg_play_hour\", \"gender_dum\", \"days_active\", \"n_sessions\", \"avg_sess_songs\", \"n_errors\"]\n",
    "assembler = VectorAssembler(inputCols=feature_names, outputCol=\"features_vec\")\n",
    "\n",
    "# Scale each column\n",
    "scalar = MinMaxScaler(inputCol=\"features_vec\", outputCol=\"features\")"
   ]
  },
  {
   "cell_type": "code",
   "execution_count": null,
   "metadata": {},
   "outputs": [],
   "source": [
    "def model_evaluator(model, metric, data):\n",
    "    \"\"\"\n",
    "        args: \n",
    "            model - pipeline of a list of transformers\n",
    "            metric - the metric of the evaluation (f1, accuracy, etc..)\n",
    "            data - dataset used in the evaluation\n",
    "        returns:\n",
    "            list of [score, confusion matrix]\n",
    "        Description:\n",
    "            Evaluate a model's performance with our metric of choice\n",
    "    \"\"\"\n",
    "    # generate predictions\n",
    "    evaluator = MulticlassClassificationEvaluator(metricName = metric)\n",
    "    predictions = model.transform(data)\n",
    "    \n",
    "    # calcualte score\n",
    "    score = evaluator.evaluate(predictions)\n",
    "    confusion_matrix = (predictions.groupby(\"label\")\n",
    "                                   .pivot(\"prediction\")\n",
    "                                   .count()\n",
    "                                   .toPandas())\n",
    "    return [score, confusion_matrix]\n",
    "\n",
    "\n",
    "def pipe_run_f1(model, param_grid, data):\n",
    "    \"\"\"\n",
    "        args: \n",
    "            model - pipeline of a list of transformers\n",
    "            metric - the metric of the evaluation (f1, accuracy, etc..)\n",
    "            param_grid - a grid of hyperparameters to be tested out\n",
    "            data - dataset used in the evaluation\n",
    "        returns:\n",
    "            trained model\n",
    "        Description:\n",
    "            Trains the selected model on our data\n",
    "    \"\"\"\n",
    "    pipeline = Pipeline(stages=[assembler, scalar, model])\n",
    "    crossval = CrossValidator(estimator=pipeline,\n",
    "                              estimatorParamMaps=param_grid,\n",
    "                              evaluator=MulticlassClassificationEvaluator(metricName=\"f1\"),\n",
    "                              numFolds=3)\n",
    "    out_model = crossval.fit(data)\n",
    "\n",
    "    return out_model"
   ]
  },
  {
   "cell_type": "code",
   "execution_count": null,
   "metadata": {},
   "outputs": [],
   "source": [
    "# Random forest classifier\n",
    "rf = RandomForestClassifier(numTrees = 50, featureSubsetStrategy='auto')\n",
    "\n",
    "param_grid = ParamGridBuilder().build()\n",
    "#    .addGrid(rf.maxBins, [16, 32]) \\\n",
    "#    .build()\n",
    "\n",
    "rf_model = pipe_run_f1(rf, param_grid, train)\n",
    "\n",
    "f1_rf, conf_mtx_rf = model_evaluator(rf_model, 'f1', test)\n",
    "print('The F1 score for the random forest model is:', f1_rf)\n",
    "conf_mtx_rf"
   ]
  },
  {
   "cell_type": "markdown",
   "metadata": {},
   "source": [
    "# Final Steps\n",
    "Clean up your code, adding comments and renaming variables to make the code easier to read and maintain. Refer to the Spark Project Overview page and Data Scientist Capstone Project Rubric to make sure you are including all components of the capstone project and meet all expectations. Remember, this includes thorough documentation in a README file in a Github repository, as well as a web app or blog post."
   ]
  },
  {
   "cell_type": "code",
   "execution_count": null,
   "metadata": {},
   "outputs": [],
   "source": []
  }
 ],
 "metadata": {
  "kernelspec": {
   "display_name": "Python 3",
   "language": "python",
   "name": "python3"
  },
  "language_info": {
   "codemirror_mode": {
    "name": "ipython",
    "version": 3
   },
   "file_extension": ".py",
   "mimetype": "text/x-python",
   "name": "python",
   "nbconvert_exporter": "python",
   "pygments_lexer": "ipython3",
   "version": "3.6.6"
  }
 },
 "nbformat": 4,
 "nbformat_minor": 2
}
