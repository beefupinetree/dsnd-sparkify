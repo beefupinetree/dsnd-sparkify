{
 "cells": [
  {
   "cell_type": "markdown",
   "metadata": {},
   "source": [
    "# Sparkify Project Workspace\n",
    "This workspace contains a tiny subset (128MB) of the full dataset available (12GB). Feel free to use this workspace to build your project, or to explore a smaller subset with Spark before deploying your cluster on the cloud. Instructions for setting up your Spark cluster is included in the last lesson of the Extracurricular Spark Course content.\n",
    "\n",
    "You can follow the steps below to guide your data analysis and model building portion of this project."
   ]
  },
  {
   "cell_type": "code",
   "execution_count": 1,
   "metadata": {},
   "outputs": [],
   "source": [
    "# import libraries\n",
    "from pyspark.sql import SparkSession\n",
    "from pyspark.ml import Pipeline\n",
    "from pyspark.sql.functions import  *\n",
    "from pyspark.sql import Window\n",
    "from pyspark.sql.types import IntegerType\n",
    "from pyspark.ml.feature import MinMaxScaler, VectorAssembler, OneHotEncoder, StringIndexer\n",
    "from pyspark.ml.classification import LogisticRegression, RandomForestClassifier, NaiveBayes, GBTClassifier\n",
    "from pyspark.ml.clustering import KMeans\n",
    "from pyspark.ml.tuning import CrossValidator, ParamGridBuilder\n",
    "from pyspark.ml.evaluation import BinaryClassificationEvaluator, MulticlassClassificationEvaluator\n",
    "\n",
    "import numpy as np\n",
    "import pandas as pd\n",
    "import matplotlib.pyplot as plt\n",
    "plt.rcParams['figure.figsize'] = 12, 9"
   ]
  },
  {
   "cell_type": "code",
   "execution_count": 2,
   "metadata": {},
   "outputs": [
    {
     "data": {
      "text/plain": [
       "DataFrame[artist: string, auth: string, firstName: string, gender: string, itemInSession: bigint, lastName: string, length: double, level: string, location: string, method: string, page: string, registration: bigint, sessionId: bigint, song: string, status: bigint, ts: bigint, userAgent: string, userId: string]"
      ]
     },
     "execution_count": 2,
     "metadata": {},
     "output_type": "execute_result"
    }
   ],
   "source": [
    "# create a Spark session\n",
    "spark = SparkSession.builder \\\n",
    "    .master(\"local\") \\\n",
    "    .appName(\"Sparkify data\") \\\n",
    "    .getOrCreate()\n",
    "\n",
    "sparkify_data = 'mini_sparkify_event_data.json'\n",
    "\n",
    "df = spark.read.json(sparkify_data)\n",
    "df.persist()"
   ]
  },
  {
   "cell_type": "markdown",
   "metadata": {},
   "source": [
    "# Load and Clean Dataset\n",
    "In this workspace, the mini-dataset file is `mini_sparkify_event_data.json`. Load and clean the dataset, checking for invalid or missing data - for example, records without userids or sessionids. "
   ]
  },
  {
   "cell_type": "code",
   "execution_count": 3,
   "metadata": {},
   "outputs": [
    {
     "name": "stdout",
     "output_type": "stream",
     "text": [
      "root\n",
      " |-- artist: string (nullable = true)\n",
      " |-- auth: string (nullable = true)\n",
      " |-- firstName: string (nullable = true)\n",
      " |-- gender: string (nullable = true)\n",
      " |-- itemInSession: long (nullable = true)\n",
      " |-- lastName: string (nullable = true)\n",
      " |-- length: double (nullable = true)\n",
      " |-- level: string (nullable = true)\n",
      " |-- location: string (nullable = true)\n",
      " |-- method: string (nullable = true)\n",
      " |-- page: string (nullable = true)\n",
      " |-- registration: long (nullable = true)\n",
      " |-- sessionId: long (nullable = true)\n",
      " |-- song: string (nullable = true)\n",
      " |-- status: long (nullable = true)\n",
      " |-- ts: long (nullable = true)\n",
      " |-- userAgent: string (nullable = true)\n",
      " |-- userId: string (nullable = true)\n",
      "\n",
      "+-------+-----------------+--------------------+\n",
      "|summary|           length|                  ts|\n",
      "+-------+-----------------+--------------------+\n",
      "|  count|           228108|              286500|\n",
      "|   mean|249.1171819778458|1.540956889810483...|\n",
      "| stddev|99.23517921058361|1.5075439608226302E9|\n",
      "|    min|          0.78322|       1538352117000|\n",
      "|    max|       3024.66567|       1543799476000|\n",
      "+-------+-----------------+--------------------+\n",
      "\n",
      "+-------------------------+\n",
      "|page                     |\n",
      "+-------------------------+\n",
      "|About                    |\n",
      "|Add Friend               |\n",
      "|Add to Playlist          |\n",
      "|Cancel                   |\n",
      "|Cancellation Confirmation|\n",
      "|Downgrade                |\n",
      "|Error                    |\n",
      "|Help                     |\n",
      "|Home                     |\n",
      "|Login                    |\n",
      "|Logout                   |\n",
      "|NextSong                 |\n",
      "|Register                 |\n",
      "|Roll Advert              |\n",
      "|Save Settings            |\n",
      "|Settings                 |\n",
      "|Submit Downgrade         |\n",
      "|Submit Registration      |\n",
      "|Submit Upgrade           |\n",
      "|Thumbs Down              |\n",
      "|Thumbs Up                |\n",
      "|Upgrade                  |\n",
      "+-------------------------+\n",
      "\n",
      "+------+\n",
      "|gender|\n",
      "+------+\n",
      "|  null|\n",
      "|     F|\n",
      "|     M|\n",
      "+------+\n",
      "\n",
      "+----------+\n",
      "|      auth|\n",
      "+----------+\n",
      "| Cancelled|\n",
      "|     Guest|\n",
      "| Logged In|\n",
      "|Logged Out|\n",
      "+----------+\n",
      "\n",
      "+-----+\n",
      "|level|\n",
      "+-----+\n",
      "| free|\n",
      "| paid|\n",
      "+-----+\n",
      "\n",
      "+------+\n",
      "|method|\n",
      "+------+\n",
      "|   GET|\n",
      "|   PUT|\n",
      "+------+\n",
      "\n",
      "+------+\n",
      "|status|\n",
      "+------+\n",
      "|   200|\n",
      "|   307|\n",
      "|   404|\n",
      "+------+\n",
      "\n",
      "+------+----------+---------+------+-------------+--------+------+-----+--------+------+-----+------------+---------+----+------+-------------+---------+------+\n",
      "|artist|      auth|firstName|gender|itemInSession|lastName|length|level|location|method| page|registration|sessionId|song|status|           ts|userAgent|userId|\n",
      "+------+----------+---------+------+-------------+--------+------+-----+--------+------+-----+------------+---------+----+------+-------------+---------+------+\n",
      "|  null|Logged Out|     null|  null|          100|    null|  null| free|    null|   GET| Home|        null|        8|null|   200|1538355745000|     null|      |\n",
      "|  null|Logged Out|     null|  null|          101|    null|  null| free|    null|   GET| Help|        null|        8|null|   200|1538355807000|     null|      |\n",
      "|  null|Logged Out|     null|  null|          102|    null|  null| free|    null|   GET| Home|        null|        8|null|   200|1538355841000|     null|      |\n",
      "|  null|Logged Out|     null|  null|          103|    null|  null| free|    null|   PUT|Login|        null|        8|null|   307|1538355842000|     null|      |\n",
      "|  null|Logged Out|     null|  null|            2|    null|  null| free|    null|   GET| Home|        null|      240|null|   200|1538356678000|     null|      |\n",
      "|  null|Logged Out|     null|  null|            3|    null|  null| free|    null|   PUT|Login|        null|      240|null|   307|1538356679000|     null|      |\n",
      "|  null|Logged Out|     null|  null|            0|    null|  null| free|    null|   PUT|Login|        null|      100|null|   307|1538358102000|     null|      |\n",
      "|  null|Logged Out|     null|  null|            0|    null|  null| free|    null|   PUT|Login|        null|      241|null|   307|1538360117000|     null|      |\n",
      "|  null|Logged Out|     null|  null|           14|    null|  null| free|    null|   GET| Home|        null|      187|null|   200|1538361527000|     null|      |\n",
      "|  null|Logged Out|     null|  null|           15|    null|  null| free|    null|   PUT|Login|        null|      187|null|   307|1538361528000|     null|      |\n",
      "|  null|Logged Out|     null|  null|           21|    null|  null| free|    null|   GET| Home|        null|      187|null|   200|1538362007000|     null|      |\n",
      "|  null|Logged Out|     null|  null|           22|    null|  null| free|    null|   GET| Home|        null|      187|null|   200|1538362095000|     null|      |\n",
      "|  null|Logged Out|     null|  null|           23|    null|  null| free|    null|   PUT|Login|        null|      187|null|   307|1538362096000|     null|      |\n",
      "|  null|Logged Out|     null|  null|            0|    null|  null| free|    null|   GET| Home|        null|       27|null|   200|1538363488000|     null|      |\n",
      "|  null|Logged Out|     null|  null|            1|    null|  null| free|    null|   GET|About|        null|       27|null|   200|1538363494000|     null|      |\n",
      "|  null|Logged Out|     null|  null|            2|    null|  null| free|    null|   GET| Home|        null|       27|null|   200|1538363503000|     null|      |\n",
      "|  null|Logged Out|     null|  null|           38|    null|  null| free|    null|   GET| Home|        null|      187|null|   200|1538364254000|     null|      |\n",
      "|  null|Logged Out|     null|  null|           39|    null|  null| free|    null|   PUT|Login|        null|      187|null|   307|1538364255000|     null|      |\n",
      "|  null|Logged Out|     null|  null|            0|    null|  null| free|    null|   GET| Home|        null|      257|null|   200|1538364750000|     null|      |\n",
      "|  null|Logged Out|     null|  null|           47|    null|  null| free|    null|   GET| Home|        null|      100|null|   200|1538370681000|     null|      |\n",
      "+------+----------+---------+------+-------------+--------+------+-----+--------+------+-----+------------+---------+----+------+-------------+---------+------+\n",
      "only showing top 20 rows\n",
      "\n",
      "+-------------------+\n",
      "|               page|\n",
      "+-------------------+\n",
      "|               Home|\n",
      "|              About|\n",
      "|Submit Registration|\n",
      "|              Login|\n",
      "|           Register|\n",
      "|               Help|\n",
      "|              Error|\n",
      "+-------------------+\n",
      "\n",
      "+------+----+---------+------+-------------+--------+------+-----+--------+------+----+------------+---------+----+------+---+---------+------+\n",
      "|artist|auth|firstName|gender|itemInSession|lastName|length|level|location|method|page|registration|sessionId|song|status| ts|userAgent|userId|\n",
      "+------+----+---------+------+-------------+--------+------+-----+--------+------+----+------------+---------+----+------+---+---------+------+\n",
      "|     0|   0|        0|     0|            0|       0|     0|    0|       0|     0|   0|           0|        0|   0|     0|  0|        0|     0|\n",
      "+------+----+---------+------+-------------+--------+------+-----+--------+------+----+------------+---------+----+------+---+---------+------+\n",
      "\n",
      "+------+----+---------+------+-------------+--------+------+-----+--------+------+----+------------+---------+-----+------+---+---------+------+\n",
      "|artist|auth|firstName|gender|itemInSession|lastName|length|level|location|method|page|registration|sessionId| song|status| ts|userAgent|userId|\n",
      "+------+----+---------+------+-------------+--------+------+-----+--------+------+----+------------+---------+-----+------+---+---------+------+\n",
      "| 58392|   0|     8346|  8346|            0|    8346| 58392|    0|    8346|     0|   0|        8346|        0|58392|     0|  0|     8346|     0|\n",
      "+------+----+---------+------+-------------+--------+------+-----+--------+------+----+------------+---------+-----+------+---+---------+------+\n",
      "\n",
      "+------+----+---------+------+-------------+--------+------+-----+--------+------+----+------------+---------+----+------+---+---------+------+\n",
      "|artist|auth|firstName|gender|itemInSession|lastName|length|level|location|method|page|registration|sessionId|song|status| ts|userAgent|userId|\n",
      "+------+----+---------+------+-------------+--------+------+-----+--------+------+----+------------+---------+----+------+---+---------+------+\n",
      "|     0|   0|        0|     0|            0|       0|     0|    0|       0|     0|   0|           0|        0|   0|     0|  0|        0|  8346|\n",
      "+------+----+---------+------+-------------+--------+------+-----+--------+------+----+------------+---------+----+------+---+---------+------+\n",
      "\n",
      "+-------+-----------------+--------------------+\n",
      "|summary|           length|                  ts|\n",
      "+-------+-----------------+--------------------+\n",
      "|  count|           228108|              278154|\n",
      "|   mean|249.1171819778458|1.540958915431871...|\n",
      "| stddev|99.23517921058361|1.5068287123306298E9|\n",
      "|    min|          0.78322|       1538352117000|\n",
      "|    max|       3024.66567|       1543799476000|\n",
      "+-------+-----------------+--------------------+\n",
      "\n"
     ]
    }
   ],
   "source": [
    "df.take(5)\n",
    "\n",
    "df.printSchema()\n",
    "\n",
    "df.describe(\"length\", \"ts\").show()\n",
    "\n",
    "df.count()\n",
    "\n",
    "df.select(\"page\").dropDuplicates().sort(\"page\").show(df.select(\"page\").count(),False)\n",
    "df.select(\"gender\").dropDuplicates().sort(\"gender\").show()\n",
    "df.select(\"auth\").dropDuplicates().sort(\"auth\").show()\n",
    "df.select(\"level\").dropDuplicates().sort(\"level\").show()\n",
    "df.select(\"method\").dropDuplicates().sort(\"method\").show()\n",
    "df.select(\"status\").dropDuplicates().sort(\"status\").show()\n",
    "\n",
    "df.where(df.userId == \"\").show()\n",
    "df.where(df.userId == \"\").select(\"page\").distinct().show()\n",
    "df.select(\"userID\").distinct().count()\n",
    "\n",
    "# columns with any NaN values, Null, or missing values\n",
    "df.select([count(when(isnan(c), c)).alias(c) for c in df.columns]).show()\n",
    "df.select([count(when(isnull(c), c)).alias(c) for c in df.columns]).show()\n",
    "df.select([count(when(col(c) == \"\", c)).alias(c) for c in df.columns]).show()\n",
    "\n",
    "# drop rows with missing IDs\n",
    "# df2 = df.na.drop()\n",
    "df2 = df.filter(df.userId != \"\")\n",
    "df2.select(\"userID\").distinct().count()\n",
    "\n",
    "df2.describe(\"length\", \"ts\").show()"
   ]
  },
  {
   "cell_type": "markdown",
   "metadata": {},
   "source": [
    "# Exploratory Data Analysis\n",
    "When you're working with the full dataset, perform EDA by loading a small subset of the data and doing basic manipulations within Spark. In this workspace, you are already provided a small subset of data you can explore.\n",
    "\n",
    "### Define Churn\n",
    "\n",
    "Once you've done some preliminary analysis, create a column `Churn` to use as the label for your model. I suggest using the `Cancellation Confirmation` events to define your churn, which happen for both paid and free users. As a bonus task, you can also look into the `Downgrade` events.\n",
    "\n",
    "### Explore Data\n",
    "Once you've defined churn, perform some exploratory data analysis to observe the behavior for users who stayed vs users who churned. You can start by exploring aggregates on these two groups of users, observing how much of a specific action they experienced per a certain time unit or number of songs played."
   ]
  },
  {
   "cell_type": "code",
   "execution_count": 4,
   "metadata": {},
   "outputs": [
    {
     "name": "stdout",
     "output_type": "stream",
     "text": [
      "root\n",
      " |-- artist: string (nullable = true)\n",
      " |-- auth: string (nullable = true)\n",
      " |-- firstName: string (nullable = true)\n",
      " |-- gender: string (nullable = true)\n",
      " |-- itemInSession: long (nullable = true)\n",
      " |-- lastName: string (nullable = true)\n",
      " |-- length: double (nullable = true)\n",
      " |-- level: string (nullable = true)\n",
      " |-- location: string (nullable = true)\n",
      " |-- method: string (nullable = true)\n",
      " |-- page: string (nullable = true)\n",
      " |-- registration: long (nullable = true)\n",
      " |-- sessionId: long (nullable = true)\n",
      " |-- song: string (nullable = true)\n",
      " |-- status: long (nullable = true)\n",
      " |-- ts: long (nullable = true)\n",
      " |-- userAgent: string (nullable = true)\n",
      " |-- userId: string (nullable = true)\n",
      " |-- churn: integer (nullable = false)\n",
      "\n",
      "+------+---------+---------+------+-------------+---------+------+-----+--------------------+------+--------------------+-------------+---------+----+------+-------------+--------------------+------+-----+\n",
      "|artist|     auth|firstName|gender|itemInSession| lastName|length|level|            location|method|                page| registration|sessionId|song|status|           ts|           userAgent|userId|churn|\n",
      "+------+---------+---------+------+-------------+---------+------+-----+--------------------+------+--------------------+-------------+---------+----+------+-------------+--------------------+------+-----+\n",
      "|  null|Cancelled|   Adriel|     M|          104|  Mendoza|  null| paid|  Kansas City, MO-KS|   GET|Cancellation Conf...|1535623466000|      514|null|   200|1538943990000|\"Mozilla/5.0 (Mac...|    18|    1|\n",
      "|  null|Cancelled|    Diego|     M|           56|    Mckee|  null| paid|Phoenix-Mesa-Scot...|   GET|Cancellation Conf...|1537167593000|      540|null|   200|1539033046000|\"Mozilla/5.0 (iPh...|    32|    1|\n",
      "|  null|Cancelled|    Mason|     M|           10|     Hart|  null| free|  Corpus Christi, TX|   GET|Cancellation Conf...|1533157139000|      174|null|   200|1539318918000|\"Mozilla/5.0 (Mac...|   125|    1|\n",
      "|  null|Cancelled|Alexander|     M|          332|   Garcia|  null| paid|Indianapolis-Carm...|   GET|Cancellation Conf...|1536817381000|      508|null|   200|1539375441000|Mozilla/5.0 (Wind...|   105|    1|\n",
      "|  null|Cancelled|    Kayla|     F|          273|  Johnson|  null| paid|Philadelphia-Camd...|   GET|Cancellation Conf...|1538333829000|      797|null|   200|1539465584000|Mozilla/5.0 (Wind...|    17|    1|\n",
      "|  null|Cancelled|    Molly|     F|           29| Harrison|  null| free|Virginia Beach-No...|   GET|Cancellation Conf...|1534255113000|      843|null|   200|1539588854000|\"Mozilla/5.0 (Mac...|   143|    1|\n",
      "|  null|Cancelled|     Alex|     M|          145|    Hogan|  null| paid|Denver-Aurora-Lak...|   GET|Cancellation Conf...|1535066380000|      842|null|   200|1539729037000|Mozilla/5.0 (Wind...|   101|    1|\n",
      "|  null|Cancelled|    Davis|     M|           34|     Wang|  null| paid|           Flint, MI|   GET|Cancellation Conf...|1538289776000|      802|null|   200|1539736161000|\"Mozilla/5.0 (Win...|   129|    1|\n",
      "|  null|Cancelled|  Nikolas|     M|          287|    Olsen|  null| paid|Oxnard-Thousand O...|   GET|Cancellation Conf...|1528403713000|      881|null|   200|1539759749000|Mozilla/5.0 (X11;...|   121|    1|\n",
      "|  null|Cancelled|    Ethan|     M|          176|  Johnson|  null| paid|Lexington-Fayette...|   GET|Cancellation Conf...|1538080987000|      934|null|   200|1539761972000|\"Mozilla/5.0 (Win...|    51|    1|\n",
      "|  null|Cancelled|Christian|     M|          100| Robinson|  null| paid|       Quincy, IL-MO|   GET|Cancellation Conf...|1534942082000|     1092|null|   200|1540050556000|\"Mozilla/5.0 (Win...|    87|    1|\n",
      "|  null|Cancelled|    Molly|     F|           43|Patterson|  null| paid|   Memphis, TN-MS-AR|   GET|Cancellation Conf...|1535498705000|     1029|null|   200|1540062068000|Mozilla/5.0 (X11;...|   122|    1|\n",
      "|  null|Cancelled|   Sophia|     F|           72|    Perry|  null| paid|Los Angeles-Long ...|   GET|Cancellation Conf...|1533885783000|     1072|null|   200|1540193374000|Mozilla/5.0 (Wind...|    12|    1|\n",
      "|  null|Cancelled|    Erick|     M|           48|   Brooks|  null| paid|           Selma, AL|   GET|Cancellation Conf...|1537956751000|     1112|null|   200|1540223006000|\"Mozilla/5.0 (Win...|    58|    1|\n",
      "|  null|Cancelled|   Rachel|     F|           11|   Bailey|  null| paid|Albany-Schenectad...|   GET|Cancellation Conf...|1536102943000|     1059|null|   200|1540402387000|Mozilla/5.0 (Wind...|    73|    1|\n",
      "|  null|Cancelled|  Jeffery|     M|           46|  Wheeler|  null| paid|         Bozeman, MT|   GET|Cancellation Conf...|1533886191000|     1324|null|   200|1540875543000|\"Mozilla/5.0 (Win...|     3|    1|\n",
      "|  null|Cancelled|   Sophia|     F|           18|      Key|  null| paid|Los Angeles-Long ...|   GET|Cancellation Conf...|1537679535000|     1383|null|   200|1541166424000|\"Mozilla/5.0 (Mac...|   106|    1|\n",
      "|  null|Cancelled|    Piper|     F|            8|  Nielsen|  null| paid|New York-Newark-J...|   GET|Cancellation Conf...|1537699856000|     1583|null|   200|1541340091000|\"Mozilla/5.0 (Mac...|   103|    1|\n",
      "|  null|Cancelled|   Teagan|     F|          306|  Roberts|  null| paid|New Philadelphia-...|   GET|Cancellation Conf...|1537634865000|     1519|null|   200|1541463632000|Mozilla/5.0 (Wind...|    28|    1|\n",
      "|  null|Cancelled|    Alexi|     F|           42|   Warren|  null| paid|Spokane-Spokane V...|   GET|Cancellation Conf...|1532482662000|     1819|null|   200|1542051608000|Mozilla/5.0 (Wind...|    54|    1|\n",
      "+------+---------+---------+------+-------------+---------+------+-----+--------------------+------+--------------------+-------------+---------+----+------+-------------+--------------------+------+-----+\n",
      "only showing top 20 rows\n",
      "\n",
      "+--------------------+-------------+---------+-----+--------+---------+-----+-------------+\n",
      "|              artist|itemInSession|   length|level|    page|sessionId|churn|           ts|\n",
      "+--------------------+-------------+---------+-----+--------+---------+-----+-------------+\n",
      "|                null|            0|     null| paid|    Home|      242|    0|1538499917000|\n",
      "|Mike And The Mech...|            1|275.12118| paid|NextSong|      242|    0|1538499933000|\n",
      "|  Taking Back Sunday|            2|268.32934| paid|NextSong|      242|    0|1538500208000|\n",
      "|              Beirut|            3|178.72934| paid|NextSong|      242|    0|1538500476000|\n",
      "|         Bob Log III|            4|188.76036| paid|NextSong|      242|    0|1538500654000|\n",
      "|             Krisiun|            5|167.91465| paid|NextSong|      242|    0|1538500842000|\n",
      "|                null|            6|     null| paid|Settings|      242|    0|1538500856000|\n",
      "|           HYPOCRISY|            7|331.38893| paid|NextSong|      242|    0|1538501009000|\n",
      "|Bullet For My Val...|            8|247.69261| paid|NextSong|      242|    0|1538501340000|\n",
      "|           She & Him|            9|153.52118| paid|NextSong|      242|    0|1538501587000|\n",
      "+--------------------+-------------+---------+-----+--------+---------+-----+-------------+\n",
      "only showing top 10 rows\n",
      "\n",
      "+------+---------+---------+------+-------------+----------+------+-----+--------------------+------+---------+-------------+---------+----+------+-------------+--------------------+------+-----+\n",
      "|artist|     auth|firstName|gender|itemInSession|  lastName|length|level|            location|method|     page| registration|sessionId|song|status|           ts|           userAgent|userId|churn|\n",
      "+------+---------+---------+------+-------------+----------+------+-----+--------------------+------+---------+-------------+---------+----+------+-------------+--------------------+------+-----+\n",
      "|  null|Logged In|    Alexi|     F|            4|    Warren|  null| paid|Spokane-Spokane V...|   GET|Downgrade|1532482662000|       53|null|   200|1538354749000|Mozilla/5.0 (Wind...|    54|    1|\n",
      "|  null|Logged In|    Faigy|     F|           29|      Howe|  null| paid|Phoenix-Mesa-Scot...|   GET|Downgrade|1538211832000|      248|null|   200|1538373286000|Mozilla/5.0 (Maci...|    95|    1|\n",
      "|  null|Logged In|    Faigy|     F|          115|      Howe|  null| paid|Phoenix-Mesa-Scot...|   GET|Downgrade|1538211832000|      248|null|   200|1538392612000|Mozilla/5.0 (Maci...|    95|    1|\n",
      "|  null|Logged In|     Kael|     M|           46|     Baker|  null| paid|Kingsport-Bristol...|   GET|Downgrade|1533102330000|      249|null|   200|1538393618000|\"Mozilla/5.0 (Mac...|   131|    1|\n",
      "|  null|Logged In|    Faigy|     F|          125|      Howe|  null| paid|Phoenix-Mesa-Scot...|   GET|Downgrade|1538211832000|      248|null|   200|1538393664000|Mozilla/5.0 (Maci...|    95|    1|\n",
      "|  null|Logged In|    Grant|     M|          119|    Flores|  null| paid|New York-Newark-J...|   GET|Downgrade|1538120859000|      141|null|   200|1538394855000|\"Mozilla/5.0 (Mac...|   142|    1|\n",
      "|  null|Logged In|    Grant|     M|          121|    Flores|  null| paid|New York-Newark-J...|   GET|Downgrade|1538120859000|      141|null|   200|1538395054000|\"Mozilla/5.0 (Mac...|   142|    1|\n",
      "|  null|Logged In|Elizabeth|     F|           17|Washington|  null| paid|   Oklahoma City, OK|   GET|Downgrade|1532472246000|      247|null|   200|1538396771000|\"Mozilla/5.0 (Mac...|   120|    1|\n",
      "|  null|Logged In|    Panav|     M|           41|     Myers|  null| paid|      Morgantown, WV|   GET|Downgrade|1538239045000|      237|null|   200|1538398230000|\"Mozilla/5.0 (Win...|    15|    1|\n",
      "|  null|Logged In|    Grant|     M|          139|    Flores|  null| paid|New York-Newark-J...|   GET|Downgrade|1538120859000|      141|null|   200|1538398648000|\"Mozilla/5.0 (Mac...|   142|    1|\n",
      "|  null|Logged In|    Ethan|     M|           36|   Johnson|  null| paid|Lexington-Fayette...|   GET|Downgrade|1538080987000|      236|null|   200|1538404204000|\"Mozilla/5.0 (Win...|    51|    1|\n",
      "|  null|Logged In|    Ethan|     M|           55|   Johnson|  null| paid|Lexington-Fayette...|   GET|Downgrade|1538080987000|      236|null|   200|1538407188000|\"Mozilla/5.0 (Win...|    51|    1|\n",
      "|  null|Logged In|    Panav|     M|           88|     Myers|  null| paid|      Morgantown, WV|   GET|Downgrade|1538239045000|      237|null|   200|1538407887000|\"Mozilla/5.0 (Win...|    15|    1|\n",
      "|  null|Logged In|    Panav|     M|           89|     Myers|  null| paid|      Morgantown, WV|   GET|Downgrade|1538239045000|      237|null|   200|1538407906000|\"Mozilla/5.0 (Win...|    15|    1|\n",
      "|  null|Logged In|    Alexi|     F|           58|    Warren|  null| paid|Spokane-Spokane V...|   GET|Downgrade|1532482662000|      260|null|   200|1538408749000|Mozilla/5.0 (Wind...|    54|    1|\n",
      "|  null|Logged In|   Nicole|     F|           28|      Beck|  null| paid|Vineland-Bridgeto...|   GET|Downgrade|1532224335000|      123|null|   200|1538411637000|\"Mozilla/5.0 (Mac...|   124|    1|\n",
      "|  null|Logged In|    Alexi|     F|          113|    Warren|  null| paid|Spokane-Spokane V...|   GET|Downgrade|1532482662000|      260|null|   200|1538418351000|Mozilla/5.0 (Wind...|    54|    1|\n",
      "|  null|Logged In|   Nicole|     F|           74|      Beck|  null| paid|Vineland-Bridgeto...|   GET|Downgrade|1532224335000|      123|null|   200|1538422416000|\"Mozilla/5.0 (Mac...|   124|    1|\n",
      "|  null|Logged In|     Kael|     M|          229|     Baker|  null| paid|Kingsport-Bristol...|   GET|Downgrade|1533102330000|      249|null|   200|1538432737000|\"Mozilla/5.0 (Mac...|   131|    1|\n",
      "|  null|Logged In|    Ethan|     M|          209|   Johnson|  null| paid|Lexington-Fayette...|   GET|Downgrade|1538080987000|      236|null|   200|1538440504000|\"Mozilla/5.0 (Win...|    51|    1|\n",
      "+------+---------+---------+------+-------------+----------+------+-----+--------------------+------+---------+-------------+---------+----+------+-------------+--------------------+------+-----+\n",
      "only showing top 20 rows\n",
      "\n",
      "+--------------------+-------------+---------+-----+---------+---------+-----+-------------+\n",
      "|              artist|itemInSession|   length|level|     page|sessionId|churn|           ts|\n",
      "+--------------------+-------------+---------+-----+---------+---------+-----+-------------+\n",
      "|         Cat Stevens|            0|183.19628| paid| NextSong|      248|    0|1538367702000|\n",
      "|        Simon Harris|            1|195.83955| paid| NextSong|      248|    0|1538367885000|\n",
      "|         Tenacious D|            2|165.95546| paid| NextSong|      248|    0|1538368080000|\n",
      "|          STEVE CAMP|            3|201.82159| paid| NextSong|      248|    0|1538368245000|\n",
      "|             DJ Koze|            4|208.74404| paid| NextSong|      248|    0|1538368446000|\n",
      "|           Lifehouse|            5|249.18159| paid| NextSong|      248|    0|1538368654000|\n",
      "|Usher Featuring L...|            6|250.38322| paid| NextSong|      248|    0|1538368903000|\n",
      "|                null|            7|     null| paid|Thumbs Up|      248|    0|1538368904000|\n",
      "|            Harmonia|            8|655.77751| paid| NextSong|      248|    0|1538369153000|\n",
      "|           Goldfrapp|            9|251.14077| paid| NextSong|      248|    0|1538369808000|\n",
      "+--------------------+-------------+---------+-----+---------+---------+-----+-------------+\n",
      "only showing top 10 rows\n",
      "\n"
     ]
    }
   ],
   "source": [
    "# These both work in the same way, but the second breaks the rest of the code\n",
    "df2 = df2.withColumn(\"churn\", when(df.page == \"Cancellation Confirmation\", 1).otherwise(0))\n",
    " \n",
    "#cancel_udf = udf(lambda  x: 1 if x == \"Cancellation Confirmation\" else 0, IntegerType())\n",
    "#df2 = df2.withColumn(\"churn\", cancel_udf(df2.page))\n",
    "df2.printSchema()\n",
    "df2.groupBy().sum().collect()[0]\n",
    "\n",
    "df2.filter(df2.churn == 1).show()\n",
    "df2.select([\"artist\",\"itemInSession\",\"length\", \"level\",\"page\",\"sessionId\",\"churn\",\"ts\"]).filter(df2.userId == 18).sort(asc('ts')).show(10)\n",
    "\n",
    "# investigating the Downgrade too\n",
    "df3 = df.withColumn(\"churn\", when(df.page == \"Downgrade\", 1).otherwise(0))\n",
    "df3.filter(df3.churn == 1).show()\n",
    "df3.select([\"artist\",\"itemInSession\",\"length\", \"level\",\"page\",\"sessionId\",\"churn\",\"ts\"]).filter(df3.userId == 95).sort(asc('ts')).show(10)"
   ]
  },
  {
   "cell_type": "markdown",
   "metadata": {},
   "source": [
    "# Feature Engineering\n",
    "Once you've familiarized yourself with the data, build out the features you find promising to train your model on. To work with the full dataset, you can follow the following steps.\n",
    "- Write a script to extract the necessary features from the smaller subset of data\n",
    "- Ensure that your script is scalable, using the best practices discussed in Lesson 3\n",
    "- Try your script on the full data set, debugging your script if necessary\n",
    "\n",
    "If you are working in the classroom workspace, you can just extract features based on the small subset of data contained here. Be sure to transfer over this work to the larger dataset when you work on your Spark cluster."
   ]
  },
  {
   "cell_type": "code",
   "execution_count": 5,
   "metadata": {},
   "outputs": [],
   "source": [
    "# Initializing final table\n",
    "\n",
    "df_user = df2.select([\"userId\"]).distinct().sort([\"userId\"])\n",
    "\n",
    "churned = df2.filter(df2.churn == 1).select('userId').distinct().sort([\"userId\"])\n",
    "\n",
    "churned_array = [int(row.userId) for row in churned.collect()]\n",
    "\n",
    "# add a new churned column to the final table\n",
    "df_user = df_user.withColumn('churn', when(df_user.userId.isin(*churned_array), 1).otherwise(0))"
   ]
  },
  {
   "cell_type": "code",
   "execution_count": 6,
   "metadata": {},
   "outputs": [
    {
     "name": "stdout",
     "output_type": "stream",
     "text": [
      "+------------------+\n",
      "|avg(count(period))|\n",
      "+------------------+\n",
      "|1013.8133333333334|\n",
      "+------------------+\n",
      "\n"
     ]
    }
   ],
   "source": [
    "# Calculate the number of songs played per hour of the day\n",
    "user_window = Window \\\n",
    "    .partitionBy('userID') \\\n",
    "    .orderBy(desc('ts')) \\\n",
    "    .rangeBetween(Window.unboundedPreceding, 0)\n",
    "\n",
    "cusum = df.filter((df.page == 'NextSong') | (df.page == 'Cancellation Confirmation')) \\\n",
    "    .select('userID', 'page', 'ts') \\\n",
    "    .withColumn('cancelvisit', when(df.page == \"Cancellation Confirmation\", 1).otherwise(0)) \\\n",
    "    .withColumn('period', sum('cancelvisit').over(user_window))\n",
    "\n",
    "cusum.filter((cusum.page == 'NextSong')) \\\n",
    "    .groupBy('userID', 'period') \\\n",
    "    .agg({'period': 'count'}) \\\n",
    "    .agg({'count(period)': 'avg'}).show()\n",
    "\n",
    "song_time = df2.filter(df2.page == \"NextSong\").withColumn(\"hour\", hour(from_unixtime(col('ts')/1000)))\n",
    "\n",
    "songs_in_hour = song_time.filter(song_time.page == \"NextSong\") \\\n",
    "                .groupby(song_time.hour).count() \\\n",
    "                .orderBy(song_time.hour.cast(\"float\"))\n",
    "\n",
    "songs_in_hour.take(5)\n",
    "\n",
    "songs_in_hour_pd = songs_in_hour.toPandas()\n",
    "songs_in_hour_pd.hour = pd.to_numeric(songs_in_hour_pd.hour)"
   ]
  },
  {
   "cell_type": "code",
   "execution_count": 7,
   "metadata": {},
   "outputs": [
    {
     "data": {
      "image/png": "[encoded data removed]",
      "text/plain": [
       "<matplotlib.figure.Figure at 0x7fcb6b84f278>"
      ]
     },
     "metadata": {
      "needs_background": "light"
     },
     "output_type": "display_data"
    }
   ],
   "source": [
    "plt.scatter(songs_in_hour_pd[\"hour\"], songs_in_hour_pd[\"count\"])\n",
    "plt.xlim(-1, 24);\n",
    "plt.ylim(0.99 * np.min(songs_in_hour_pd[\"count\"]), 1.05 * np.max(songs_in_hour_pd[\"count\"]))\n",
    "plt.xlabel(\"Hour\")\n",
    "plt.ylabel(\"Songs played\")\n",
    "plt.title('Distribution of number of songs played throughout the day');"
   ]
  },
  {
   "cell_type": "code",
   "execution_count": 8,
   "metadata": {},
   "outputs": [],
   "source": [
    "### Adding the average hour when the user plays a song\n",
    "\n",
    "avg_hour_of_play = song_time.select([\"userId\", \"hour\"]) \\\n",
    "                    .groupBy('userID') \\\n",
    "                    .agg({'hour': 'avg'})\n",
    "\n",
    "avg_hour_of_play = avg_hour_of_play.withColumnRenamed(\"avg(hour)\", \"avg_play_hour\")\n",
    "\n",
    "df_user = df_user.join(avg_hour_of_play, on = 'userId', how = 'left')"
   ]
  },
  {
   "cell_type": "code",
   "execution_count": 9,
   "metadata": {},
   "outputs": [
    {
     "data": {
      "text/plain": [
       "<matplotlib.axes._subplots.AxesSubplot at 0x7fcb68ce5710>"
      ]
     },
     "execution_count": 9,
     "metadata": {},
     "output_type": "execute_result"
    },
    {
     "data": {
      "image/png": "[encoded data removed]",
      "text/plain": [
       "<matplotlib.figure.Figure at 0x7fcb68ce5f28>"
      ]
     },
     "metadata": {
      "needs_background": "light"
     },
     "output_type": "display_data"
    }
   ],
   "source": [
    "(df_user.groupby(\"churn\").avg().select('churn', 'avg(avg_play_hour)')\n",
    "                .toPandas()\n",
    "                .set_index('churn')\n",
    "                .plot(kind = 'bar', title = 'Average hour of play Churned/Non-Churned users'))"
   ]
  },
  {
   "cell_type": "code",
   "execution_count": 10,
   "metadata": {},
   "outputs": [
    {
     "name": "stdout",
     "output_type": "stream",
     "text": [
      "+------+------+\n",
      "|gender| count|\n",
      "+------+------+\n",
      "|  null|278154|\n",
      "|     F|154578|\n",
      "|     M|123576|\n",
      "+------+------+\n",
      "\n"
     ]
    }
   ],
   "source": [
    "### Gender dummy (1: male, 0: female)\n",
    "df2.cube([\"gender\"]).count().show()\n",
    "\n",
    "indexer = StringIndexer(inputCol=\"gender\", outputCol=\"gender_dum\")\n",
    "df2 = indexer.fit(df2).transform(df2)\n",
    "\n",
    "gender_dum = df2.select([\"userId\", \"gender_dum\"]).distinct().sort(\"userId\")\n",
    "\n",
    "df_user = df_user.join(gender_dum, on = 'userId', how = 'left')"
   ]
  },
  {
   "cell_type": "code",
   "execution_count": 11,
   "metadata": {},
   "outputs": [
    {
     "name": "stdout",
     "output_type": "stream",
     "text": [
      "+-----+----------+------------------+------------------+\n",
      "|churn|avg(churn)|avg(avg_play_hour)|   avg(gender_dum)|\n",
      "+-----+----------+------------------+------------------+\n",
      "|    1|       1.0| 12.89760328761402|0.6153846153846154|\n",
      "|    0|       0.0|12.280191222733785|0.5144508670520231|\n",
      "+-----+----------+------------------+------------------+\n",
      "\n"
     ]
    }
   ],
   "source": [
    "df_user.groupby([\"churn\"]).avg().show()"
   ]
  },
  {
   "cell_type": "code",
   "execution_count": 12,
   "metadata": {},
   "outputs": [],
   "source": [
    "### Days of activity\n",
    "\n",
    "# Find minimum/maximum time stamp of each user\n",
    "min_timestmp = df2.select([\"userId\", \"ts\"]).groupby(\"userId\").min(\"ts\")\n",
    "max_timestmp = df2.select([\"userId\", \"ts\"]).groupby(\"userId\").max(\"ts\")\n",
    "\n",
    "# Find days active of each user\n",
    "daysActive = min_timestmp.join(max_timestmp, on=\"userId\")\n",
    "daysActive = daysActive.withColumn(\"days_active\", \n",
    "                                   datediff(from_unixtime(col('max(ts)')/1000),\n",
    "                                            from_unixtime(col('min(ts)')/1000))).select([\"userId\", \"days_active\"]) \n",
    "df_user = df_user.join(daysActive, on = 'userId', how = 'left')"
   ]
  },
  {
   "cell_type": "code",
   "execution_count": 13,
   "metadata": {},
   "outputs": [
    {
     "data": {
      "text/plain": [
       "<matplotlib.axes._subplots.AxesSubplot at 0x7fcb68c97160>"
      ]
     },
     "execution_count": 13,
     "metadata": {},
     "output_type": "execute_result"
    },
    {
     "data": {
      "image/png": "[encoded data removed]",
      "text/plain": [
       "<matplotlib.figure.Figure at 0x7fcb68c97828>"
      ]
     },
     "metadata": {
      "needs_background": "light"
     },
     "output_type": "display_data"
    }
   ],
   "source": [
    "(df_user.groupby([\"churn\"]).avg().select([\"churn\", \"avg(days_active)\"])\n",
    "                .toPandas()\n",
    "                .set_index('churn')\n",
    "                .plot(kind = 'bar', title = 'Average days active for churned/Non-churned users'))"
   ]
  },
  {
   "cell_type": "code",
   "execution_count": 14,
   "metadata": {},
   "outputs": [],
   "source": [
    "### Number of sessions\n",
    "n_sessions = df2.select([\"userId\", \"sessionId\"]).distinct().groupby(\"userId\").count().sort([\"userId\", \"count\"])\n",
    "n_sessions = n_sessions.withColumnRenamed(\"count\", \"n_sessions\")\n",
    "\n",
    "df_user = df_user.join(n_sessions, on = 'userId', how = 'left')"
   ]
  },
  {
   "cell_type": "code",
   "execution_count": 15,
   "metadata": {},
   "outputs": [
    {
     "data": {
      "text/plain": [
       "<matplotlib.axes._subplots.AxesSubplot at 0x7fcb68bf7fd0>"
      ]
     },
     "execution_count": 15,
     "metadata": {},
     "output_type": "execute_result"
    },
    {
     "data": {
      "image/png": "[encoded data removed]",
      "text/plain": [
       "<matplotlib.figure.Figure at 0x7fcb68bf75f8>"
      ]
     },
     "metadata": {
      "needs_background": "light"
     },
     "output_type": "display_data"
    }
   ],
   "source": [
    "(df_user.groupby([\"churn\"]).avg().select([\"churn\", \"avg(n_sessions)\"])\n",
    "                .toPandas()\n",
    "                .set_index('churn')\n",
    "                .plot(kind = 'bar', title = 'Average number of sessions for churned/Non-churned users'))"
   ]
  },
  {
   "cell_type": "code",
   "execution_count": 16,
   "metadata": {},
   "outputs": [],
   "source": [
    "### Average numer of songs per session\n",
    "\n",
    "avg_session_songs = df2.filter((df2.page == 'NextSong')) \\\n",
    "                    .groupBy('userID', 'sessionId') \\\n",
    "                    .agg({'song': 'count'}) \\\n",
    "                    .groupBy('userID') \\\n",
    "                    .agg({'count(song)': 'avg'})\n",
    "\n",
    "avg_session_songs = avg_session_songs.withColumnRenamed(\"avg(count(song))\", \"avg_sess_songs\")\n",
    "\n",
    "df_user = df_user.join(avg_session_songs, on = 'userId', how = 'left')"
   ]
  },
  {
   "cell_type": "code",
   "execution_count": 17,
   "metadata": {
    "scrolled": true
   },
   "outputs": [
    {
     "data": {
      "text/plain": [
       "<matplotlib.axes._subplots.AxesSubplot at 0x7fcb68c047f0>"
      ]
     },
     "execution_count": 17,
     "metadata": {},
     "output_type": "execute_result"
    },
    {
     "data": {
      "image/png": "[encoded data removed]",
      "text/plain": [
       "<matplotlib.figure.Figure at 0x7fcb68c04240>"
      ]
     },
     "metadata": {
      "needs_background": "light"
     },
     "output_type": "display_data"
    }
   ],
   "source": [
    "(df_user.groupby([\"churn\"]).avg().select([\"churn\", \"avg(avg_sess_songs)\"])\n",
    "                .toPandas()\n",
    "                .set_index('churn')\n",
    "                .plot(kind = 'bar', title = 'Average number of songs per session for churned/Non-churned users'))"
   ]
  },
  {
   "cell_type": "code",
   "execution_count": 18,
   "metadata": {},
   "outputs": [],
   "source": [
    "### Number of errors\n",
    "\n",
    "errors = df2.select([\"userId\", \"page\"]).filter((df2.page == 'Error')).groupby(\"userId\").agg({'page': 'count'})\n",
    "errors = errors.withColumnRenamed(\"count(page)\", \"n_errors\")\n",
    "\n",
    "df_user = df_user.join(errors, on = 'userId', how = 'left')"
   ]
  },
  {
   "cell_type": "code",
   "execution_count": 19,
   "metadata": {},
   "outputs": [
    {
     "data": {
      "text/plain": [
       "<matplotlib.axes._subplots.AxesSubplot at 0x7fcb68b759b0>"
      ]
     },
     "execution_count": 19,
     "metadata": {},
     "output_type": "execute_result"
    },
    {
     "data": {
      "image/png": "[encoded data removed]",
      "text/plain": [
       "<matplotlib.figure.Figure at 0x7fcb68b752e8>"
      ]
     },
     "metadata": {
      "needs_background": "light"
     },
     "output_type": "display_data"
    }
   ],
   "source": [
    "(df_user.groupby([\"churn\"]).avg().select([\"churn\", \"avg(n_errors)\"])\n",
    "                .toPandas()\n",
    "                .set_index('churn')\n",
    "                .plot(kind = 'bar', title = 'Average number of errors for churned/Non-churned users'))"
   ]
  },
  {
   "cell_type": "code",
   "execution_count": 20,
   "metadata": {},
   "outputs": [],
   "source": [
    "# Renaming churn to label\n",
    "df_user = df_user.withColumnRenamed(\"churn\", \"label\")\n",
    "\n",
    "# setting missing values to zero\n",
    "df_user = df_user.fillna(0)"
   ]
  },
  {
   "cell_type": "markdown",
   "metadata": {},
   "source": [
    "# Modeling\n",
    "Split the full dataset into train, test, and validation sets. Test out several of the machine learning methods you learned. Evaluate the accuracy of the various models, tuning parameters as necessary. Determine your winning model based on test accuracy and report results on the validation set. Since the churned users are a fairly small subset, I suggest using F1 score as the metric to optimize."
   ]
  },
  {
   "cell_type": "code",
   "execution_count": 21,
   "metadata": {},
   "outputs": [],
   "source": [
    "# Build pipeline\n",
    "train, test = df_user.randomSplit([0.8, 0.2], 42)\n",
    "\n",
    "# Vectorize the features\n",
    "feature_names = [\"avg_play_hour\", \"gender_dum\", \"days_active\", \"n_sessions\", \"avg_sess_songs\", \"n_errors\"]\n",
    "assembler = VectorAssembler(inputCols=feature_names, outputCol=\"features_vec\")\n",
    "\n",
    "# Scale each column\n",
    "scalar = MinMaxScaler(inputCol=\"features_vec\", outputCol=\"features\")"
   ]
  },
  {
   "cell_type": "code",
   "execution_count": 22,
   "metadata": {},
   "outputs": [],
   "source": [
    "def model_evaluator(model, metric, data):\n",
    "    \"\"\"\n",
    "        args: \n",
    "            model - pipeline of a list of transformers\n",
    "            metric - the metric of the evaluation (f1, accuracy, etc..)\n",
    "            data - dataset used in the evaluation\n",
    "        returns:\n",
    "            list of [score, confusion matrix]\n",
    "        Description:\n",
    "            Evaluate a model's performance with our metric of choice\n",
    "    \"\"\"\n",
    "    # generate predictions\n",
    "    evaluator = MulticlassClassificationEvaluator(metricName = metric)\n",
    "    predictions = model.transform(data)\n",
    "    \n",
    "    # calcualte score\n",
    "    score = evaluator.evaluate(predictions)\n",
    "    confusion_matrix = (predictions.groupby(\"label\")\n",
    "                                   .pivot(\"prediction\")\n",
    "                                   .count()\n",
    "                                   .toPandas())\n",
    "    return [score, confusion_matrix]\n",
    "\n",
    "\n",
    "def pipe_run_f1(model, param_grid, data):\n",
    "    \"\"\"\n",
    "        args: \n",
    "            model - pipeline of a list of transformers\n",
    "            metric - the metric of the evaluation (f1, accuracy, etc..)\n",
    "            param_grid - a grid of hyperparameters to be tested out\n",
    "            data - dataset used in the evaluation\n",
    "        returns:\n",
    "            trained model\n",
    "        Description:\n",
    "            Trains the selected model on our data\n",
    "    \"\"\"\n",
    "    pipeline = Pipeline(stages=[assembler, scalar, model])\n",
    "    crossval = CrossValidator(estimator=pipeline,\n",
    "                              estimatorParamMaps=param_grid,\n",
    "                              evaluator=MulticlassClassificationEvaluator(metricName=\"f1\"),\n",
    "                              numFolds=3)\n",
    "    out_model = crossval.fit(data)\n",
    "\n",
    "    return out_model"
   ]
  },
  {
   "cell_type": "code",
   "execution_count": 23,
   "metadata": {},
   "outputs": [
    {
     "name": "stdout",
     "output_type": "stream",
     "text": [
      "The F1 score for the logistic regression model is: 0.8259686649779528\n"
     ]
    },
    {
     "data": {
      "text/html": [
       "<div>\n",
       "<style scoped>\n",
       "    .dataframe tbody tr th:only-of-type {\n",
       "        vertical-align: middle;\n",
       "    }\n",
       "\n",
       "    .dataframe tbody tr th {\n",
       "        vertical-align: top;\n",
       "    }\n",
       "\n",
       "    .dataframe thead th {\n",
       "        text-align: right;\n",
       "    }\n",
       "</style>\n",
       "<table border=\"1\" class=\"dataframe\">\n",
       "  <thead>\n",
       "    <tr style=\"text-align: right;\">\n",
       "      <th></th>\n",
       "      <th>label</th>\n",
       "      <th>0.0</th>\n",
       "      <th>1.0</th>\n",
       "    </tr>\n",
       "  </thead>\n",
       "  <tbody>\n",
       "    <tr>\n",
       "      <th>0</th>\n",
       "      <td>1</td>\n",
       "      <td>5</td>\n",
       "      <td>3.0</td>\n",
       "    </tr>\n",
       "    <tr>\n",
       "      <th>1</th>\n",
       "      <td>0</td>\n",
       "      <td>26</td>\n",
       "      <td>NaN</td>\n",
       "    </tr>\n",
       "  </tbody>\n",
       "</table>\n",
       "</div>"
      ],
      "text/plain": [
       "   label  0.0  1.0\n",
       "0      1    5  3.0\n",
       "1      0   26  NaN"
      ]
     },
     "execution_count": 23,
     "metadata": {},
     "output_type": "execute_result"
    }
   ],
   "source": [
    "# Logistic regression\n",
    "lr = LogisticRegression(maxIter=10, regParam=0.0, elasticNetParam=0)\n",
    "\n",
    "param_grid = ParamGridBuilder().build()\n",
    "#    .addGrid(lr.regParam, [0.0, 0.1]) \\\n",
    "#    .addGrid(lr.maxIter, [10]) \\\n",
    "#    .build()\n",
    "\n",
    "lr_model = pipe_run_f1(lr, param_grid, train)  # crossval.fit(train)\n",
    " \n",
    "f1_lr, conf_mtx_lr = model_evaluator(lr_model, 'f1', test)\n",
    "print('The F1 score for the logistic regression model is:', f1_lr)\n",
    "conf_mtx_lr"
   ]
  },
  {
   "cell_type": "code",
   "execution_count": 24,
   "metadata": {},
   "outputs": [
    {
     "name": "stdout",
     "output_type": "stream",
     "text": [
      "The F1 score for the random forest model is: 0.8494265630780614\n"
     ]
    },
    {
     "data": {
      "text/html": [
       "<div>\n",
       "<style scoped>\n",
       "    .dataframe tbody tr th:only-of-type {\n",
       "        vertical-align: middle;\n",
       "    }\n",
       "\n",
       "    .dataframe tbody tr th {\n",
       "        vertical-align: top;\n",
       "    }\n",
       "\n",
       "    .dataframe thead th {\n",
       "        text-align: right;\n",
       "    }\n",
       "</style>\n",
       "<table border=\"1\" class=\"dataframe\">\n",
       "  <thead>\n",
       "    <tr style=\"text-align: right;\">\n",
       "      <th></th>\n",
       "      <th>label</th>\n",
       "      <th>0.0</th>\n",
       "      <th>1.0</th>\n",
       "    </tr>\n",
       "  </thead>\n",
       "  <tbody>\n",
       "    <tr>\n",
       "      <th>0</th>\n",
       "      <td>1</td>\n",
       "      <td>3</td>\n",
       "      <td>5</td>\n",
       "    </tr>\n",
       "    <tr>\n",
       "      <th>1</th>\n",
       "      <td>0</td>\n",
       "      <td>24</td>\n",
       "      <td>2</td>\n",
       "    </tr>\n",
       "  </tbody>\n",
       "</table>\n",
       "</div>"
      ],
      "text/plain": [
       "   label  0.0  1.0\n",
       "0      1    3    5\n",
       "1      0   24    2"
      ]
     },
     "execution_count": 24,
     "metadata": {},
     "output_type": "execute_result"
    }
   ],
   "source": [
    "# Random forest classifier\n",
    "rf = RandomForestClassifier(numTrees = 50, featureSubsetStrategy='auto')\n",
    "\n",
    "param_grid = ParamGridBuilder().build()\n",
    "#    .addGrid(rf.maxBins, [16, 32]) \\\n",
    "#    .build()\n",
    "\n",
    "rf_model = pipe_run_f1(rf, param_grid, train)\n",
    "\n",
    "f1_rf, conf_mtx_rf = model_evaluator(rf_model, 'f1', test)\n",
    "print('The F1 score for the random forest model is:', f1_rf)\n",
    "conf_mtx_rf"
   ]
  },
  {
   "cell_type": "code",
   "execution_count": 26,
   "metadata": {},
   "outputs": [
    {
     "name": "stdout",
     "output_type": "stream",
     "text": [
      "The F1 score for the Gradient Boosted Tree model is: 0.8298039215686274\n"
     ]
    },
    {
     "data": {
      "text/html": [
       "<div>\n",
       "<style scoped>\n",
       "    .dataframe tbody tr th:only-of-type {\n",
       "        vertical-align: middle;\n",
       "    }\n",
       "\n",
       "    .dataframe tbody tr th {\n",
       "        vertical-align: top;\n",
       "    }\n",
       "\n",
       "    .dataframe thead th {\n",
       "        text-align: right;\n",
       "    }\n",
       "</style>\n",
       "<table border=\"1\" class=\"dataframe\">\n",
       "  <thead>\n",
       "    <tr style=\"text-align: right;\">\n",
       "      <th></th>\n",
       "      <th>label</th>\n",
       "      <th>0.0</th>\n",
       "      <th>1.0</th>\n",
       "    </tr>\n",
       "  </thead>\n",
       "  <tbody>\n",
       "    <tr>\n",
       "      <th>0</th>\n",
       "      <td>1</td>\n",
       "      <td>2</td>\n",
       "      <td>6</td>\n",
       "    </tr>\n",
       "    <tr>\n",
       "      <th>1</th>\n",
       "      <td>0</td>\n",
       "      <td>22</td>\n",
       "      <td>4</td>\n",
       "    </tr>\n",
       "  </tbody>\n",
       "</table>\n",
       "</div>"
      ],
      "text/plain": [
       "   label  0.0  1.0\n",
       "0      1    2    6\n",
       "1      0   22    4"
      ]
     },
     "execution_count": 26,
     "metadata": {},
     "output_type": "execute_result"
    }
   ],
   "source": [
    "# Gradient Boosted Tree\n",
    "gb = GBTClassifier()\n",
    "\n",
    "param_grid = ParamGridBuilder().build()\n",
    "\n",
    "gb_model = pipe_run_f1(gb, param_grid, train)\n",
    "\n",
    "f1_gb, conf_mtx_gb = model_evaluator(gb_model, 'f1', test)\n",
    "print('The F1 score for the Gradient Boosted Tree model is:', f1_gb)\n",
    "conf_mtx_gb"
   ]
  },
  {
   "cell_type": "code",
   "execution_count": 27,
   "metadata": {},
   "outputs": [
    {
     "data": {
      "text/plain": [
       "SparseVector(6, {0: 0.1396, 1: 0.0236, 2: 0.4912, 3: 0.1976, 4: 0.1134, 5: 0.0347})"
      ]
     },
     "execution_count": 27,
     "metadata": {},
     "output_type": "execute_result"
    }
   ],
   "source": [
    "# Feature importance\n",
    "pipeline = Pipeline(stages=[assembler, scalar, rf])\n",
    "rf_model2 = pipeline.fit(train)\n",
    "rf_model2.stages[-1].featureImportances"
   ]
  },
  {
   "cell_type": "markdown",
   "metadata": {},
   "source": [
    "# Final Steps\n",
    "Clean up your code, adding comments and renaming variables to make the code easier to read and maintain. Refer to the Spark Project Overview page and Data Scientist Capstone Project Rubric to make sure you are including all components of the capstone project and meet all expectations. Remember, this includes thorough documentation in a README file in a Github repository, as well as a web app or blog post."
   ]
  },
  {
   "cell_type": "code",
   "execution_count": null,
   "metadata": {},
   "outputs": [],
   "source": []
  }
 ],
 "metadata": {
  "kernelspec": {
   "display_name": "Python 3",
   "language": "python",
   "name": "python3"
  },
  "language_info": {
   "codemirror_mode": {
    "name": "ipython",
    "version": 3
   },
   "file_extension": ".py",
   "mimetype": "text/x-python",
   "name": "python",
   "nbconvert_exporter": "python",
   "pygments_lexer": "ipython3",
   "version": "3.6.3"
  }
 },
 "nbformat": 4,
 "nbformat_minor": 2
}
